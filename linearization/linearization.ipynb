{
 "cells": [
  {
   "cell_type": "markdown",
   "metadata": {},
   "source": [
    "<img src=\"docs/linearization1.png\">"
   ]
  },
  {
   "cell_type": "markdown",
   "metadata": {},
   "source": [
    "<img src=\"docs/linearization2.png\">"
   ]
  },
  {
   "cell_type": "markdown",
   "metadata": {},
   "source": [
    "<img src=\"docs/linearization3.png\">"
   ]
  },
  {
   "cell_type": "code",
   "execution_count": 3,
   "metadata": {},
   "outputs": [
    {
     "data": {
      "text/plain": [
       "Text(0, 0.5, 'q_2')"
      ]
     },
     "execution_count": 3,
     "metadata": {},
     "output_type": "execute_result"
    }
   ],
   "source": [
    "import numpy as np\n",
    "import matplotlib.pyplot as plt\n",
    "\n",
    "a = b = c = 1\n",
    "dt = 0.1\n",
    "\n",
    "time = np.arange(0, 20, dt)\n",
    "q_data = np.zeros((len(time), 2))\n",
    "\n",
    "\n",
    "def dqdt(q):\n",
    "    return np.array((\n",
    "        (a*q[0])-(b*q[0]*q[1]),\n",
    "        (b*q[0]*q[1])-(c*q[1])))\n",
    "\n",
    "# Initial Conditions:\n",
    "q = np.array((1, 3))\n",
    "\n",
    "for idx, t in enumerate(time):\n",
    "    q = q + dt * dqdt(q)\n",
    "    q_data[idx,:] = q\n",
    "\n",
    "    \n",
    "    \n",
    "fig, ax = plt.subplots()\n",
    "\n",
    "plt.plot(q_data[:,0], q_data[:,1])\n",
    "plt.plot(q_data[0,0], q_data[0,1], 'ro')\n",
    "\n",
    "# Initial Conditions:\n",
    "q = np.array((1.1, 1))\n",
    "\n",
    "for idx, t in enumerate(time):\n",
    "    q = q + dt * dqdt(q)\n",
    "    q_data[idx,:] = q\n",
    "    \n",
    "plt.plot(q_data[:,0], q_data[:,1], 'm')\n",
    "plt.plot(q_data[0,0], q_data[0,1], 'ro')\n",
    "\n",
    "# Initial Conditions\n",
    "q = np.array((1, 1.5))\n",
    "\n",
    "for idx, t in enumerate(time):\n",
    "    q = q + dt * dqdt(q)\n",
    "    q_data[idx,:] = q\n",
    "    \n",
    "plt.plot(q_data[:,0], q_data[:,1], 'c')\n",
    "plt.plot(q_data[0,0], q_data[0,1], 'ro')\n",
    "\n",
    "ax.set_title('Trajectory over time')\n",
    "plt.legend(('trajectory','initial conidition'))\n",
    "plt.xlabel('q_1')\n",
    "plt.ylabel('q_2')"
   ]
  },
  {
   "cell_type": "markdown",
   "metadata": {},
   "source": [
    "<img src=\"docs/simulation.png\">"
   ]
  }
 ],
 "metadata": {
  "kernelspec": {
   "display_name": "Python (data-science)",
   "language": "python",
   "name": "data-science"
  },
  "language_info": {
   "codemirror_mode": {
    "name": "ipython",
    "version": 3
   },
   "file_extension": ".py",
   "mimetype": "text/x-python",
   "name": "python",
   "nbconvert_exporter": "python",
   "pygments_lexer": "ipython3",
   "version": "3.8.6"
  }
 },
 "nbformat": 4,
 "nbformat_minor": 2
}
